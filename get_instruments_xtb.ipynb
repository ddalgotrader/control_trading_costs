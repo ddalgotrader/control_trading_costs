{
 "cells": [
  {
   "cell_type": "code",
   "execution_count": null,
   "id": "2df3180a",
   "metadata": {},
   "outputs": [],
   "source": [
    "#import libraries\n",
    "import pandas as pd\n",
    "from xAPIConnector import *\n",
    "import config"
   ]
  },
  {
   "cell_type": "code",
   "execution_count": null,
   "id": "17b5db76",
   "metadata": {},
   "outputs": [],
   "source": [
    "#connect to API\n",
    "client=APIClient()\n",
    "client.execute(loginCommand(userId=XTB_ACCOUNT_ID, password='XTB_PASSWORD'))"
   ]
  },
  {
   "cell_type": "code",
   "execution_count": null,
   "id": "797e0ab3",
   "metadata": {},
   "outputs": [],
   "source": [
    "#get info about all instruments, it takes a while\n",
    "all_symbols_data= client.commandExecute('getAllSymbols')"
   ]
  },
  {
   "cell_type": "code",
   "execution_count": null,
   "id": "0cc00961",
   "metadata": {},
   "outputs": [],
   "source": [
    "#create list of all instriments\n",
    "all_symbols=[]\n",
    "for symbol_dict in all_symbols_data['returnData']:\n",
    "    if symbol_dict['categoryName']=='FX':\n",
    "        all_symbols.append(symbol_dict['symbol'])\n",
    "    "
   ]
  },
  {
   "cell_type": "code",
   "execution_count": null,
   "id": "0bef5e8b",
   "metadata": {},
   "outputs": [],
   "source": [
    "#create df\n",
    "symbols_df=pd.DataFrame(all_symbols, columns=['symbol'])"
   ]
  },
  {
   "cell_type": "code",
   "execution_count": null,
   "id": "700cb44c",
   "metadata": {},
   "outputs": [],
   "source": [
    "symbols_df"
   ]
  },
  {
   "cell_type": "code",
   "execution_count": null,
   "id": "320081d9",
   "metadata": {},
   "outputs": [],
   "source": [
    "#save to csv file\n",
    "symbols_df.to_csv('/path/to/symbols.csv', index=False)"
   ]
  },
  {
   "cell_type": "code",
   "execution_count": null,
   "id": "a262c92c",
   "metadata": {},
   "outputs": [],
   "source": []
  }
 ],
 "metadata": {
  "kernelspec": {
   "display_name": "Python 3 (ipykernel)",
   "language": "python",
   "name": "python3"
  },
  "language_info": {
   "codemirror_mode": {
    "name": "ipython",
    "version": 3
   },
   "file_extension": ".py",
   "mimetype": "text/x-python",
   "name": "python",
   "nbconvert_exporter": "python",
   "pygments_lexer": "ipython3",
   "version": "3.10.6"
  }
 },
 "nbformat": 4,
 "nbformat_minor": 5
}
